{
 "cells": [
  {
   "cell_type": "code",
   "execution_count": 1,
   "id": "db66eb90-1f21-4e6e-b634-d53266410ecc",
   "metadata": {
    "tags": []
   },
   "outputs": [
    {
     "name": "stdout",
     "output_type": "stream",
     "text": [
      "[[1 2 3]\n",
      " [4 5 6]]\n",
      "(2, 3)\n",
      "[[ 1.  3.  6.]\n",
      " [ 4.  9. 15.]]\n"
     ]
    }
   ],
   "source": [
    "# Задан одномерный numpy.array 𝑋. \n",
    "\n",
    "# Необходимо написать функцию transform, которая построит новый массив Y,\n",
    "# где все элементы с нечетными индексами требуется заменить на число 1.\n",
    "# Все элементы с четными индексами нужно возвести в куб.\n",
    "# Затем записать элементы в обратном порядке относительно их позиций. \n",
    "\n",
    "# Функция должна вернуть numpy.array того же размера, что и X.\n",
    "\n",
    "# Пример работы функции:\n",
    "# X = np.array([3, 1, 4, -1, 2, 3, 0])\n",
    "# Y = transform(X)\n",
    "# Y  # array([27, 1, 64, 1, 8, 1, 0])\n",
    "\n",
    "import numpy as np\n",
    "\n",
    "def transform(X):\n",
    "    \n",
    "    result = #YOUR CODE\n",
    "    return resultray\n",
    "    return result\n",
    "\n",
    "X = np.array([3, 1, 4, -1, 2, 3, 0])\n",
    "result = transform(X)\n",
    "np.testing.assert_array_equal(result, array([27, 1, 64, 1, 8, 1, 0]))"
   ]
  },
  {
   "cell_type": "code",
   "execution_count": null,
   "id": "21218056-bf25-46cd-8630-e6d26eaa85c9",
   "metadata": {},
   "outputs": [],
   "source": []
  }
 ],
 "metadata": {
  "kernelspec": {
   "display_name": "default:Python",
   "language": "python",
   "name": "conda-env-default-py"
  },
  "language_info": {
   "codemirror_mode": {
    "name": "ipython",
    "version": 3
   },
   "file_extension": ".py",
   "mimetype": "text/x-python",
   "name": "python",
   "nbconvert_exporter": "python",
   "pygments_lexer": "ipython3",
   "version": "3.9.16"
  },
  "toc-autonumbering": true,
  "toc-showcode": true
 },
 "nbformat": 4,
 "nbformat_minor": 5
}
