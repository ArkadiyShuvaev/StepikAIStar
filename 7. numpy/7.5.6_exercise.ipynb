{
 "cells": [
  {
   "cell_type": "code",
   "execution_count": 1,
   "id": "db66eb90-1f21-4e6e-b634-d53266410ecc",
   "metadata": {
    "tags": []
   },
   "outputs": [
    {
     "name": "stdout",
     "output_type": "stream",
     "text": [
      "[[1 2 3]\n",
      " [4 5 6]]\n",
      "(2, 3)\n",
      "[[ 1.  3.  6.]\n",
      " [ 4.  9. 15.]]\n"
     ]
    }
   ],
   "source": [
    "import numpy as np\n",
    "\n",
    "def cumulative_mean_2d(A):\n",
    "    \"\"\"  \n",
    "    A: np.array[num_row, num_column]        --- матрица-аргумент\n",
    "    return S: np.array[num_row, num_column] --- выходная матрица кумулятивных сумм\n",
    "\n",
    "    Функция принимает на вход матрицу A размерностью n x m и возвращает \n",
    "    матрицу с той же размерностью n x m, i-ая строчка которой есть последовательность \n",
    "    кумулятивных сумм элементов i-ой строки матрицы A\n",
    "\n",
    "    В реализации этой функции необходимо использовать функционал пакета numpy\n",
    "\n",
    "    \"\"\" \n",
    "    cumsum_array = np.cumsum(A, axis=1, dtype=float)\n",
    "    \n",
    "    print(A)\n",
    "    print(A.shape)\n",
    "    print(cumsum_array)\n",
    "    \n",
    "    for i in range(len(cumsum_array)):\n",
    "        for j in range(len(cumsum_array[i])):\n",
    "            cumsum_array[i][j] = cumsum_array[i][j] / (j + 1)\n",
    "\n",
    "    result = cumsum_array\n",
    "    return result\n",
    "\n",
    "result = cumulative_mean_2d(np.array([[1, 2, 3], [4, 5, 6]]))\n",
    "np.testing.assert_array_equal(result, np.array([[1. , 1.5, 2. ], [4. , 4.5, 5. ]]))"
   ]
  },
  {
   "cell_type": "code",
   "execution_count": null,
   "id": "21218056-bf25-46cd-8630-e6d26eaa85c9",
   "metadata": {},
   "outputs": [],
   "source": []
  }
 ],
 "metadata": {
  "kernelspec": {
   "display_name": "default:Python",
   "language": "python",
   "name": "conda-env-default-py"
  },
  "language_info": {
   "codemirror_mode": {
    "name": "ipython",
    "version": 3
   },
   "file_extension": ".py",
   "mimetype": "text/x-python",
   "name": "python",
   "nbconvert_exporter": "python",
   "pygments_lexer": "ipython3",
   "version": "3.9.16"
  },
  "toc-autonumbering": true,
  "toc-showcode": true
 },
 "nbformat": 4,
 "nbformat_minor": 5
}
