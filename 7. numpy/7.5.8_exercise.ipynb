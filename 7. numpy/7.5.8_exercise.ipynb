{
 "cells": [
  {
   "cell_type": "code",
   "execution_count": 11,
   "id": "db66eb90-1f21-4e6e-b634-d53266410ecc",
   "metadata": {
    "tags": []
   },
   "outputs": [],
   "source": [
    "# Напишите функцию diag_2k, которая находит сумму четных элементов на главной диагонали квадратной матрицы\n",
    "# (именно чётных элементов, а не элементов на чётных позициях!).\n",
    "# Если чётных элементов нет, то функция должна вернуть 0. Используйте библиотеку numpy.\n",
    "\n",
    "# На вход функции подается двумерный numpy.array X.\n",
    "# Функция возвращает одно число.\n",
    "\n",
    "# Пример:\n",
    "# X = np.array([1,2,2,4,4,6,7,8,8]).reshape(3,3)\n",
    "# y = diag_2k(X)\n",
    "# y  # 12\n",
    "\n",
    "import numpy as np\n",
    "\n",
    "def diag_2k(arr):\n",
    "    result = 0\n",
    "    diagonal_elements = arr.diagonal()\n",
    "    \n",
    "    for i in diagonal_elements:\n",
    "        if i % 2 == 0:\n",
    "            result = result + i\n",
    "    \n",
    "    return result\n",
    "\n",
    "X = np.array([1,2,2,4,4,6,7,8,8]).reshape(3,3)\n",
    "result = diag_2k(X)\n",
    "np.testing.assert_array_equal(result, 12)"
   ]
  },
  {
   "cell_type": "code",
   "execution_count": null,
   "id": "21218056-bf25-46cd-8630-e6d26eaa85c9",
   "metadata": {},
   "outputs": [],
   "source": []
  }
 ],
 "metadata": {
  "kernelspec": {
   "display_name": "default:Python",
   "language": "python",
   "name": "conda-env-default-py"
  },
  "language_info": {
   "codemirror_mode": {
    "name": "ipython",
    "version": 3
   },
   "file_extension": ".py",
   "mimetype": "text/x-python",
   "name": "python",
   "nbconvert_exporter": "python",
   "pygments_lexer": "ipython3",
   "version": "3.9.16"
  },
  "toc-autonumbering": true,
  "toc-showcode": true
 },
 "nbformat": 4,
 "nbformat_minor": 5
}
