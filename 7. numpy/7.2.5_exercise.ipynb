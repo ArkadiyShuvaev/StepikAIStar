{
 "cells": [
  {
   "cell_type": "code",
   "execution_count": 2,
   "id": "886e99fa-d739-4709-a42c-f6e8559fa8ba",
   "metadata": {
    "tags": []
   },
   "outputs": [],
   "source": [
    "import numpy as np"
   ]
  },
  {
   "cell_type": "code",
   "execution_count": null,
   "id": "d7c48d88-d9e3-4a8d-addd-4e565e7681bd",
   "metadata": {
    "tags": []
   },
   "outputs": [],
   "source": [
    "Напишите функцию, которая получает на вход одномерный numpy.array X и возвращает массив из кумулятивных средних массива.\n",
    "функция должна вернуть numpy.array"
   ]
  },
  {
   "cell_type": "code",
   "execution_count": 5,
   "id": "ed2c6ed0-6be3-4d11-88bb-b725b32df49e",
   "metadata": {},
   "outputs": [],
   "source": [
    "import numpy as np\n",
    "\n",
    "def cumulative_mean(X):\n",
    "    result = np.empty(len(X))\n",
    "    cumsum_arr = np.cumsum(X, dtype=float)\n",
    "    \n",
    "    for i in range(len(cumsum_arr)):\n",
    "        result[i] = cumsum_arr[i] / (i + 1)\n",
    "    \n",
    "    return result\n",
    "\n",
    "\n",
    "result = cumulative_mean(np.array([2, 2, 2]))\n",
    "np.testing.assert_array_equal(result, np.array([2,2,2]))"
   ]
  },
  {
   "cell_type": "code",
   "execution_count": null,
   "id": "a97c3fa3-7414-412c-8c67-b97387fdd3dd",
   "metadata": {},
   "outputs": [],
   "source": []
  }
 ],
 "metadata": {
  "kernelspec": {
   "display_name": "default:Python",
   "language": "python",
   "name": "conda-env-default-py"
  },
  "language_info": {
   "codemirror_mode": {
    "name": "ipython",
    "version": 3
   },
   "file_extension": ".py",
   "mimetype": "text/x-python",
   "name": "python",
   "nbconvert_exporter": "python",
   "pygments_lexer": "ipython3",
   "version": "3.9.16"
  }
 },
 "nbformat": 4,
 "nbformat_minor": 5
}
